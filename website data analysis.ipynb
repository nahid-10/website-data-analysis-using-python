{
 "cells": [
  {
   "cell_type": "code",
   "execution_count": 1,
   "id": "1d671858",
   "metadata": {
    "ExecuteTime": {
     "end_time": "2025-07-19T06:00:25.673234Z",
     "start_time": "2025-07-19T06:00:22.641195Z"
    }
   },
   "outputs": [],
   "source": [
    "import numpy as np\n",
    "import pandas as pd\n",
    "import seaborn as sns\n",
    "import matplotlib.pyplot as plt\n",
    "import plotly.express as px"
   ]
  },
  {
   "cell_type": "code",
   "execution_count": 4,
   "id": "028541fc",
   "metadata": {
    "ExecuteTime": {
     "end_time": "2025-07-19T06:01:22.244712Z",
     "start_time": "2025-07-19T06:01:22.229540Z"
    }
   },
   "outputs": [],
   "source": [
    "df=pd.read_csv(\"website_data.csv\",header=1)"
   ]
  },
  {
   "cell_type": "code",
   "execution_count": 5,
   "id": "beef3c40",
   "metadata": {
    "ExecuteTime": {
     "end_time": "2025-07-19T06:01:25.544967Z",
     "start_time": "2025-07-19T06:01:25.520998Z"
    }
   },
   "outputs": [
    {
     "data": {
      "text/html": [
       "<div>\n",
       "<style scoped>\n",
       "    .dataframe tbody tr th:only-of-type {\n",
       "        vertical-align: middle;\n",
       "    }\n",
       "\n",
       "    .dataframe tbody tr th {\n",
       "        vertical-align: top;\n",
       "    }\n",
       "\n",
       "    .dataframe thead th {\n",
       "        text-align: right;\n",
       "    }\n",
       "</style>\n",
       "<table border=\"1\" class=\"dataframe\">\n",
       "  <thead>\n",
       "    <tr style=\"text-align: right;\">\n",
       "      <th></th>\n",
       "      <th>Session primary channel group (Default channel group)</th>\n",
       "      <th>Date + hour (YYYYMMDDHH)</th>\n",
       "      <th>Users</th>\n",
       "      <th>Sessions</th>\n",
       "      <th>Engaged sessions</th>\n",
       "      <th>Average engagement time per session</th>\n",
       "      <th>Engaged sessions per user</th>\n",
       "      <th>Events per session</th>\n",
       "      <th>Engagement rate</th>\n",
       "      <th>Event count</th>\n",
       "    </tr>\n",
       "  </thead>\n",
       "  <tbody>\n",
       "    <tr>\n",
       "      <th>1567</th>\n",
       "      <td>Organic Search</td>\n",
       "      <td>2024042123</td>\n",
       "      <td>42</td>\n",
       "      <td>53</td>\n",
       "      <td>27</td>\n",
       "      <td>35.54717</td>\n",
       "      <td>0.642857</td>\n",
       "      <td>3.320755</td>\n",
       "      <td>0.509434</td>\n",
       "      <td>176</td>\n",
       "    </tr>\n",
       "    <tr>\n",
       "      <th>476</th>\n",
       "      <td>Organic Social</td>\n",
       "      <td>2024050117</td>\n",
       "      <td>71</td>\n",
       "      <td>88</td>\n",
       "      <td>52</td>\n",
       "      <td>59.62500</td>\n",
       "      <td>0.732394</td>\n",
       "      <td>5.488636</td>\n",
       "      <td>0.590909</td>\n",
       "      <td>483</td>\n",
       "    </tr>\n",
       "    <tr>\n",
       "      <th>2219</th>\n",
       "      <td>Organic Search</td>\n",
       "      <td>2024050101</td>\n",
       "      <td>24</td>\n",
       "      <td>30</td>\n",
       "      <td>18</td>\n",
       "      <td>27.90000</td>\n",
       "      <td>0.750000</td>\n",
       "      <td>4.200000</td>\n",
       "      <td>0.600000</td>\n",
       "      <td>126</td>\n",
       "    </tr>\n",
       "    <tr>\n",
       "      <th>2806</th>\n",
       "      <td>Unassigned</td>\n",
       "      <td>2024042814</td>\n",
       "      <td>2</td>\n",
       "      <td>2</td>\n",
       "      <td>0</td>\n",
       "      <td>99.50000</td>\n",
       "      <td>0.000000</td>\n",
       "      <td>4.500000</td>\n",
       "      <td>0.000000</td>\n",
       "      <td>9</td>\n",
       "    </tr>\n",
       "    <tr>\n",
       "      <th>3170</th>\n",
       "      <td>Organic Video</td>\n",
       "      <td>2024050121</td>\n",
       "      <td>0</td>\n",
       "      <td>1</td>\n",
       "      <td>0</td>\n",
       "      <td>0.00000</td>\n",
       "      <td>0.000000</td>\n",
       "      <td>2.000000</td>\n",
       "      <td>0.000000</td>\n",
       "      <td>2</td>\n",
       "    </tr>\n",
       "  </tbody>\n",
       "</table>\n",
       "</div>"
      ],
      "text/plain": [
       "     Session primary channel group (Default channel group)  \\\n",
       "1567                                     Organic Search      \n",
       "476                                      Organic Social      \n",
       "2219                                     Organic Search      \n",
       "2806                                         Unassigned      \n",
       "3170                                      Organic Video      \n",
       "\n",
       "      Date + hour (YYYYMMDDHH)  Users  Sessions  Engaged sessions  \\\n",
       "1567                2024042123     42        53                27   \n",
       "476                 2024050117     71        88                52   \n",
       "2219                2024050101     24        30                18   \n",
       "2806                2024042814      2         2                 0   \n",
       "3170                2024050121      0         1                 0   \n",
       "\n",
       "      Average engagement time per session  Engaged sessions per user  \\\n",
       "1567                             35.54717                   0.642857   \n",
       "476                              59.62500                   0.732394   \n",
       "2219                             27.90000                   0.750000   \n",
       "2806                             99.50000                   0.000000   \n",
       "3170                              0.00000                   0.000000   \n",
       "\n",
       "      Events per session  Engagement rate  Event count  \n",
       "1567            3.320755         0.509434          176  \n",
       "476             5.488636         0.590909          483  \n",
       "2219            4.200000         0.600000          126  \n",
       "2806            4.500000         0.000000            9  \n",
       "3170            2.000000         0.000000            2  "
      ]
     },
     "execution_count": 5,
     "metadata": {},
     "output_type": "execute_result"
    }
   ],
   "source": [
    "df.sample(5)"
   ]
  },
  {
   "cell_type": "code",
   "execution_count": 6,
   "id": "a50e4285",
   "metadata": {
    "ExecuteTime": {
     "end_time": "2025-07-20T02:49:54.429533Z",
     "start_time": "2025-07-20T02:49:54.419737Z"
    }
   },
   "outputs": [
    {
     "data": {
      "text/plain": [
       "Index(['Session primary channel group (Default channel group)',\n",
       "       'Date + hour (YYYYMMDDHH)', 'Users', 'Sessions', 'Engaged sessions',\n",
       "       'Average engagement time per session', 'Engaged sessions per user',\n",
       "       'Events per session', 'Engagement rate', 'Event count'],\n",
       "      dtype='object')"
      ]
     },
     "execution_count": 6,
     "metadata": {},
     "output_type": "execute_result"
    }
   ],
   "source": [
    "df.columns"
   ]
  },
  {
   "cell_type": "code",
   "execution_count": 7,
   "id": "2c7c36b0",
   "metadata": {
    "ExecuteTime": {
     "end_time": "2025-07-20T02:50:58.999282Z",
     "start_time": "2025-07-20T02:50:58.990135Z"
    }
   },
   "outputs": [],
   "source": [
    "df.rename(columns={\n",
    "    'Session primary channel group (Default channel group)': 'channel_group',\n",
    "    'Date + hour (YYYYMMDDHH)': 'datetime',\n",
    "    'Users': 'users',\n",
    "    'Sessions': 'sessions',\n",
    "    'Engaged sessions': 'engaged_sessions',\n",
    "    'Average engagement time per session': 'avg_engagement_time',\n",
    "    'Engaged sessions per user': 'engaged_sessions_per_user',\n",
    "    'Events per session': 'events_per_session',\n",
    "    'Engagement rate': 'engagement_rate',\n",
    "    'Event count': 'event_count'\n",
    "}, inplace=True)"
   ]
  },
  {
   "cell_type": "code",
   "execution_count": 8,
   "id": "99d7fa37",
   "metadata": {
    "ExecuteTime": {
     "end_time": "2025-07-20T02:51:07.532627Z",
     "start_time": "2025-07-20T02:51:07.518641Z"
    }
   },
   "outputs": [
    {
     "data": {
      "text/html": [
       "<div>\n",
       "<style scoped>\n",
       "    .dataframe tbody tr th:only-of-type {\n",
       "        vertical-align: middle;\n",
       "    }\n",
       "\n",
       "    .dataframe tbody tr th {\n",
       "        vertical-align: top;\n",
       "    }\n",
       "\n",
       "    .dataframe thead th {\n",
       "        text-align: right;\n",
       "    }\n",
       "</style>\n",
       "<table border=\"1\" class=\"dataframe\">\n",
       "  <thead>\n",
       "    <tr style=\"text-align: right;\">\n",
       "      <th></th>\n",
       "      <th>channel_group</th>\n",
       "      <th>datetime</th>\n",
       "      <th>users</th>\n",
       "      <th>sessions</th>\n",
       "      <th>engaged_sessions</th>\n",
       "      <th>avg_engagement_time</th>\n",
       "      <th>engaged_sessions_per_user</th>\n",
       "      <th>events_per_session</th>\n",
       "      <th>engagement_rate</th>\n",
       "      <th>event_count</th>\n",
       "    </tr>\n",
       "  </thead>\n",
       "  <tbody>\n",
       "    <tr>\n",
       "      <th>373</th>\n",
       "      <td>Organic Social</td>\n",
       "      <td>2024042718</td>\n",
       "      <td>75</td>\n",
       "      <td>102</td>\n",
       "      <td>43</td>\n",
       "      <td>25.843137</td>\n",
       "      <td>0.573333</td>\n",
       "      <td>3.911765</td>\n",
       "      <td>0.421569</td>\n",
       "      <td>399</td>\n",
       "    </tr>\n",
       "    <tr>\n",
       "      <th>1447</th>\n",
       "      <td>Direct</td>\n",
       "      <td>2024041207</td>\n",
       "      <td>44</td>\n",
       "      <td>50</td>\n",
       "      <td>26</td>\n",
       "      <td>83.200000</td>\n",
       "      <td>0.590909</td>\n",
       "      <td>3.820000</td>\n",
       "      <td>0.520000</td>\n",
       "      <td>191</td>\n",
       "    </tr>\n",
       "    <tr>\n",
       "      <th>777</th>\n",
       "      <td>Organic Search</td>\n",
       "      <td>2024041412</td>\n",
       "      <td>60</td>\n",
       "      <td>66</td>\n",
       "      <td>40</td>\n",
       "      <td>36.378788</td>\n",
       "      <td>0.666667</td>\n",
       "      <td>4.227273</td>\n",
       "      <td>0.606061</td>\n",
       "      <td>279</td>\n",
       "    </tr>\n",
       "  </tbody>\n",
       "</table>\n",
       "</div>"
      ],
      "text/plain": [
       "       channel_group    datetime  users  sessions  engaged_sessions  \\\n",
       "373   Organic Social  2024042718     75       102                43   \n",
       "1447          Direct  2024041207     44        50                26   \n",
       "777   Organic Search  2024041412     60        66                40   \n",
       "\n",
       "      avg_engagement_time  engaged_sessions_per_user  events_per_session  \\\n",
       "373             25.843137                   0.573333            3.911765   \n",
       "1447            83.200000                   0.590909            3.820000   \n",
       "777             36.378788                   0.666667            4.227273   \n",
       "\n",
       "      engagement_rate  event_count  \n",
       "373          0.421569          399  \n",
       "1447         0.520000          191  \n",
       "777          0.606061          279  "
      ]
     },
     "execution_count": 8,
     "metadata": {},
     "output_type": "execute_result"
    }
   ],
   "source": [
    "df.sample(3)"
   ]
  },
  {
   "cell_type": "code",
   "execution_count": 9,
   "id": "e719c352",
   "metadata": {
    "ExecuteTime": {
     "end_time": "2025-07-20T02:51:45.881763Z",
     "start_time": "2025-07-20T02:51:45.863132Z"
    }
   },
   "outputs": [
    {
     "name": "stdout",
     "output_type": "stream",
     "text": [
      "<class 'pandas.core.frame.DataFrame'>\n",
      "RangeIndex: 3182 entries, 0 to 3181\n",
      "Data columns (total 10 columns):\n",
      " #   Column                     Non-Null Count  Dtype  \n",
      "---  ------                     --------------  -----  \n",
      " 0   channel_group              3182 non-null   object \n",
      " 1   datetime                   3182 non-null   int64  \n",
      " 2   users                      3182 non-null   int64  \n",
      " 3   sessions                   3182 non-null   int64  \n",
      " 4   engaged_sessions           3182 non-null   int64  \n",
      " 5   avg_engagement_time        3182 non-null   float64\n",
      " 6   engaged_sessions_per_user  3182 non-null   float64\n",
      " 7   events_per_session         3182 non-null   float64\n",
      " 8   engagement_rate            3182 non-null   float64\n",
      " 9   event_count                3182 non-null   int64  \n",
      "dtypes: float64(4), int64(5), object(1)\n",
      "memory usage: 248.7+ KB\n"
     ]
    }
   ],
   "source": [
    "df.info()"
   ]
  },
  {
   "cell_type": "code",
   "execution_count": 11,
   "id": "2bccc717",
   "metadata": {
    "ExecuteTime": {
     "end_time": "2025-07-20T02:55:20.161309Z",
     "start_time": "2025-07-20T02:55:20.133246Z"
    }
   },
   "outputs": [],
   "source": [
    "df['datetime']=pd.to_datetime(df['datetime'],format=\"%Y%m%d%H\")"
   ]
  },
  {
   "cell_type": "code",
   "execution_count": 12,
   "id": "acad2325",
   "metadata": {
    "ExecuteTime": {
     "end_time": "2025-07-20T02:55:28.684539Z",
     "start_time": "2025-07-20T02:55:28.670426Z"
    }
   },
   "outputs": [
    {
     "name": "stdout",
     "output_type": "stream",
     "text": [
      "<class 'pandas.core.frame.DataFrame'>\n",
      "RangeIndex: 3182 entries, 0 to 3181\n",
      "Data columns (total 10 columns):\n",
      " #   Column                     Non-Null Count  Dtype         \n",
      "---  ------                     --------------  -----         \n",
      " 0   channel_group              3182 non-null   object        \n",
      " 1   datetime                   3182 non-null   datetime64[ns]\n",
      " 2   users                      3182 non-null   int64         \n",
      " 3   sessions                   3182 non-null   int64         \n",
      " 4   engaged_sessions           3182 non-null   int64         \n",
      " 5   avg_engagement_time        3182 non-null   float64       \n",
      " 6   engaged_sessions_per_user  3182 non-null   float64       \n",
      " 7   events_per_session         3182 non-null   float64       \n",
      " 8   engagement_rate            3182 non-null   float64       \n",
      " 9   event_count                3182 non-null   int64         \n",
      "dtypes: datetime64[ns](1), float64(4), int64(4), object(1)\n",
      "memory usage: 248.7+ KB\n"
     ]
    }
   ],
   "source": [
    "df.info()"
   ]
  },
  {
   "cell_type": "code",
   "execution_count": 18,
   "id": "04c19ac7",
   "metadata": {
    "ExecuteTime": {
     "end_time": "2025-07-20T02:57:08.915041Z",
     "start_time": "2025-07-20T02:57:08.899552Z"
    }
   },
   "outputs": [],
   "source": [
    "df['hour']=df['datetime'].dt.hour"
   ]
  },
  {
   "cell_type": "code",
   "execution_count": 28,
   "id": "af2c7162",
   "metadata": {
    "ExecuteTime": {
     "end_time": "2025-07-20T03:15:03.859005Z",
     "start_time": "2025-07-20T03:15:03.848770Z"
    }
   },
   "outputs": [
    {
     "data": {
      "text/plain": [
       "channel_group                0\n",
       "datetime                     0\n",
       "users                        0\n",
       "sessions                     0\n",
       "engaged_sessions             0\n",
       "avg_engagement_time          0\n",
       "engaged_sessions_per_user    0\n",
       "events_per_session           0\n",
       "engagement_rate              0\n",
       "event_count                  0\n",
       "hour                         0\n",
       "dtype: int64"
      ]
     },
     "execution_count": 28,
     "metadata": {},
     "output_type": "execute_result"
    }
   ],
   "source": [
    "df.isnull().sum()"
   ]
  },
  {
   "cell_type": "code",
   "execution_count": 29,
   "id": "68f800df",
   "metadata": {
    "ExecuteTime": {
     "end_time": "2025-07-20T03:15:22.593215Z",
     "start_time": "2025-07-20T03:15:22.582338Z"
    }
   },
   "outputs": [
    {
     "data": {
      "text/plain": [
       "0"
      ]
     },
     "execution_count": 29,
     "metadata": {},
     "output_type": "execute_result"
    }
   ],
   "source": [
    "df.duplicated().sum()"
   ]
  },
  {
   "cell_type": "code",
   "execution_count": 32,
   "id": "4fbdff1f",
   "metadata": {
    "ExecuteTime": {
     "end_time": "2025-07-20T03:16:06.029910Z",
     "start_time": "2025-07-20T03:16:05.997479Z"
    }
   },
   "outputs": [
    {
     "data": {
      "text/html": [
       "<div>\n",
       "<style scoped>\n",
       "    .dataframe tbody tr th:only-of-type {\n",
       "        vertical-align: middle;\n",
       "    }\n",
       "\n",
       "    .dataframe tbody tr th {\n",
       "        vertical-align: top;\n",
       "    }\n",
       "\n",
       "    .dataframe thead th {\n",
       "        text-align: right;\n",
       "    }\n",
       "</style>\n",
       "<table border=\"1\" class=\"dataframe\">\n",
       "  <thead>\n",
       "    <tr style=\"text-align: right;\">\n",
       "      <th></th>\n",
       "      <th>datetime</th>\n",
       "      <th>users</th>\n",
       "      <th>sessions</th>\n",
       "      <th>engaged_sessions</th>\n",
       "      <th>avg_engagement_time</th>\n",
       "      <th>engaged_sessions_per_user</th>\n",
       "      <th>events_per_session</th>\n",
       "      <th>engagement_rate</th>\n",
       "      <th>event_count</th>\n",
       "      <th>hour</th>\n",
       "    </tr>\n",
       "  </thead>\n",
       "  <tbody>\n",
       "    <tr>\n",
       "      <th>count</th>\n",
       "      <td>3182</td>\n",
       "      <td>3182.000000</td>\n",
       "      <td>3182.000000</td>\n",
       "      <td>3182.000000</td>\n",
       "      <td>3182.000000</td>\n",
       "      <td>3182.000000</td>\n",
       "      <td>3182.000000</td>\n",
       "      <td>3182.000000</td>\n",
       "      <td>3182.000000</td>\n",
       "      <td>3182.000000</td>\n",
       "    </tr>\n",
       "    <tr>\n",
       "      <th>mean</th>\n",
       "      <td>2024-04-20 01:17:07.278441216</td>\n",
       "      <td>41.935889</td>\n",
       "      <td>51.192646</td>\n",
       "      <td>28.325581</td>\n",
       "      <td>66.644581</td>\n",
       "      <td>0.606450</td>\n",
       "      <td>4.675969</td>\n",
       "      <td>0.503396</td>\n",
       "      <td>242.272470</td>\n",
       "      <td>11.807040</td>\n",
       "    </tr>\n",
       "    <tr>\n",
       "      <th>min</th>\n",
       "      <td>2024-04-06 00:00:00</td>\n",
       "      <td>0.000000</td>\n",
       "      <td>1.000000</td>\n",
       "      <td>0.000000</td>\n",
       "      <td>0.000000</td>\n",
       "      <td>0.000000</td>\n",
       "      <td>1.000000</td>\n",
       "      <td>0.000000</td>\n",
       "      <td>1.000000</td>\n",
       "      <td>0.000000</td>\n",
       "    </tr>\n",
       "    <tr>\n",
       "      <th>25%</th>\n",
       "      <td>2024-04-13 02:15:00</td>\n",
       "      <td>20.000000</td>\n",
       "      <td>24.000000</td>\n",
       "      <td>13.000000</td>\n",
       "      <td>32.103034</td>\n",
       "      <td>0.561404</td>\n",
       "      <td>3.750000</td>\n",
       "      <td>0.442902</td>\n",
       "      <td>103.000000</td>\n",
       "      <td>6.000000</td>\n",
       "    </tr>\n",
       "    <tr>\n",
       "      <th>50%</th>\n",
       "      <td>2024-04-20 02:00:00</td>\n",
       "      <td>42.000000</td>\n",
       "      <td>51.000000</td>\n",
       "      <td>27.000000</td>\n",
       "      <td>49.020202</td>\n",
       "      <td>0.666667</td>\n",
       "      <td>4.410256</td>\n",
       "      <td>0.545455</td>\n",
       "      <td>226.000000</td>\n",
       "      <td>12.000000</td>\n",
       "    </tr>\n",
       "    <tr>\n",
       "      <th>75%</th>\n",
       "      <td>2024-04-26 22:00:00</td>\n",
       "      <td>60.000000</td>\n",
       "      <td>71.000000</td>\n",
       "      <td>41.000000</td>\n",
       "      <td>71.487069</td>\n",
       "      <td>0.750000</td>\n",
       "      <td>5.217690</td>\n",
       "      <td>0.633333</td>\n",
       "      <td>339.000000</td>\n",
       "      <td>18.000000</td>\n",
       "    </tr>\n",
       "    <tr>\n",
       "      <th>max</th>\n",
       "      <td>2024-05-03 23:00:00</td>\n",
       "      <td>237.000000</td>\n",
       "      <td>300.000000</td>\n",
       "      <td>144.000000</td>\n",
       "      <td>4525.000000</td>\n",
       "      <td>2.000000</td>\n",
       "      <td>56.000000</td>\n",
       "      <td>1.000000</td>\n",
       "      <td>1402.000000</td>\n",
       "      <td>23.000000</td>\n",
       "    </tr>\n",
       "    <tr>\n",
       "      <th>std</th>\n",
       "      <td>NaN</td>\n",
       "      <td>29.582258</td>\n",
       "      <td>36.919962</td>\n",
       "      <td>20.650569</td>\n",
       "      <td>127.200659</td>\n",
       "      <td>0.264023</td>\n",
       "      <td>2.795228</td>\n",
       "      <td>0.228206</td>\n",
       "      <td>184.440313</td>\n",
       "      <td>6.886686</td>\n",
       "    </tr>\n",
       "  </tbody>\n",
       "</table>\n",
       "</div>"
      ],
      "text/plain": [
       "                            datetime        users     sessions  \\\n",
       "count                           3182  3182.000000  3182.000000   \n",
       "mean   2024-04-20 01:17:07.278441216    41.935889    51.192646   \n",
       "min              2024-04-06 00:00:00     0.000000     1.000000   \n",
       "25%              2024-04-13 02:15:00    20.000000    24.000000   \n",
       "50%              2024-04-20 02:00:00    42.000000    51.000000   \n",
       "75%              2024-04-26 22:00:00    60.000000    71.000000   \n",
       "max              2024-05-03 23:00:00   237.000000   300.000000   \n",
       "std                              NaN    29.582258    36.919962   \n",
       "\n",
       "       engaged_sessions  avg_engagement_time  engaged_sessions_per_user  \\\n",
       "count       3182.000000          3182.000000                3182.000000   \n",
       "mean          28.325581            66.644581                   0.606450   \n",
       "min            0.000000             0.000000                   0.000000   \n",
       "25%           13.000000            32.103034                   0.561404   \n",
       "50%           27.000000            49.020202                   0.666667   \n",
       "75%           41.000000            71.487069                   0.750000   \n",
       "max          144.000000          4525.000000                   2.000000   \n",
       "std           20.650569           127.200659                   0.264023   \n",
       "\n",
       "       events_per_session  engagement_rate  event_count         hour  \n",
       "count         3182.000000      3182.000000  3182.000000  3182.000000  \n",
       "mean             4.675969         0.503396   242.272470    11.807040  \n",
       "min              1.000000         0.000000     1.000000     0.000000  \n",
       "25%              3.750000         0.442902   103.000000     6.000000  \n",
       "50%              4.410256         0.545455   226.000000    12.000000  \n",
       "75%              5.217690         0.633333   339.000000    18.000000  \n",
       "max             56.000000         1.000000  1402.000000    23.000000  \n",
       "std              2.795228         0.228206   184.440313     6.886686  "
      ]
     },
     "execution_count": 32,
     "metadata": {},
     "output_type": "execute_result"
    }
   ],
   "source": [
    "df.describe()"
   ]
  },
  {
   "cell_type": "code",
   "execution_count": null,
   "id": "7ff55f7d",
   "metadata": {},
   "outputs": [],
   "source": []
  }
 ],
 "metadata": {
  "kernelspec": {
   "display_name": "Python 3 (ipykernel)",
   "language": "python",
   "name": "python3"
  },
  "language_info": {
   "codemirror_mode": {
    "name": "ipython",
    "version": 3
   },
   "file_extension": ".py",
   "mimetype": "text/x-python",
   "name": "python",
   "nbconvert_exporter": "python",
   "pygments_lexer": "ipython3",
   "version": "3.11.5"
  },
  "toc": {
   "base_numbering": 1,
   "nav_menu": {},
   "number_sections": true,
   "sideBar": true,
   "skip_h1_title": false,
   "title_cell": "Table of Contents",
   "title_sidebar": "Contents",
   "toc_cell": false,
   "toc_position": {},
   "toc_section_display": true,
   "toc_window_display": false
  },
  "varInspector": {
   "cols": {
    "lenName": 16,
    "lenType": 16,
    "lenVar": 40
   },
   "kernels_config": {
    "python": {
     "delete_cmd_postfix": "",
     "delete_cmd_prefix": "del ",
     "library": "var_list.py",
     "varRefreshCmd": "print(var_dic_list())"
    },
    "r": {
     "delete_cmd_postfix": ") ",
     "delete_cmd_prefix": "rm(",
     "library": "var_list.r",
     "varRefreshCmd": "cat(var_dic_list()) "
    }
   },
   "types_to_exclude": [
    "module",
    "function",
    "builtin_function_or_method",
    "instance",
    "_Feature"
   ],
   "window_display": false
  }
 },
 "nbformat": 4,
 "nbformat_minor": 5
}
